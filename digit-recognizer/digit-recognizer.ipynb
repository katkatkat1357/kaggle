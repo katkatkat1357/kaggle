{
 "cells": [
  {
   "cell_type": "code",
   "execution_count": 1,
   "id": "4531cbfa",
   "metadata": {},
   "outputs": [
    {
     "name": "stdout",
     "output_type": "stream",
     "text": [
      "sample_submission.csv  test.csv  train.csv\r\n"
     ]
    }
   ],
   "source": [
    "!ls data"
   ]
  },
  {
   "cell_type": "code",
   "execution_count": 2,
   "id": "a9764365",
   "metadata": {},
   "outputs": [],
   "source": [
    "import matplotlib.pyplot as plt\n",
    "import numpy as np\n",
    "import pandas as pd\n",
    "import warnings\n",
    "from sklearn.exceptions import ConvergenceWarning\n",
    "from sklearn.metrics import confusion_matrix, ConfusionMatrixDisplay\n",
    "from sklearn.model_selection import train_test_split\n",
    "from sklearn.neural_network import MLPClassifier"
   ]
  },
  {
   "cell_type": "code",
   "execution_count": 3,
   "id": "2ffa2fa8",
   "metadata": {},
   "outputs": [
    {
     "data": {
      "text/html": [
       "<div>\n",
       "<style scoped>\n",
       "    .dataframe tbody tr th:only-of-type {\n",
       "        vertical-align: middle;\n",
       "    }\n",
       "\n",
       "    .dataframe tbody tr th {\n",
       "        vertical-align: top;\n",
       "    }\n",
       "\n",
       "    .dataframe thead th {\n",
       "        text-align: right;\n",
       "    }\n",
       "</style>\n",
       "<table border=\"1\" class=\"dataframe\">\n",
       "  <thead>\n",
       "    <tr style=\"text-align: right;\">\n",
       "      <th></th>\n",
       "      <th>label</th>\n",
       "      <th>pixel0</th>\n",
       "      <th>pixel1</th>\n",
       "      <th>pixel2</th>\n",
       "      <th>pixel3</th>\n",
       "      <th>pixel4</th>\n",
       "      <th>pixel5</th>\n",
       "      <th>pixel6</th>\n",
       "      <th>pixel7</th>\n",
       "      <th>pixel8</th>\n",
       "      <th>...</th>\n",
       "      <th>pixel774</th>\n",
       "      <th>pixel775</th>\n",
       "      <th>pixel776</th>\n",
       "      <th>pixel777</th>\n",
       "      <th>pixel778</th>\n",
       "      <th>pixel779</th>\n",
       "      <th>pixel780</th>\n",
       "      <th>pixel781</th>\n",
       "      <th>pixel782</th>\n",
       "      <th>pixel783</th>\n",
       "    </tr>\n",
       "  </thead>\n",
       "  <tbody>\n",
       "    <tr>\n",
       "      <th>0</th>\n",
       "      <td>1</td>\n",
       "      <td>0</td>\n",
       "      <td>0</td>\n",
       "      <td>0</td>\n",
       "      <td>0</td>\n",
       "      <td>0</td>\n",
       "      <td>0</td>\n",
       "      <td>0</td>\n",
       "      <td>0</td>\n",
       "      <td>0</td>\n",
       "      <td>...</td>\n",
       "      <td>0</td>\n",
       "      <td>0</td>\n",
       "      <td>0</td>\n",
       "      <td>0</td>\n",
       "      <td>0</td>\n",
       "      <td>0</td>\n",
       "      <td>0</td>\n",
       "      <td>0</td>\n",
       "      <td>0</td>\n",
       "      <td>0</td>\n",
       "    </tr>\n",
       "    <tr>\n",
       "      <th>1</th>\n",
       "      <td>0</td>\n",
       "      <td>0</td>\n",
       "      <td>0</td>\n",
       "      <td>0</td>\n",
       "      <td>0</td>\n",
       "      <td>0</td>\n",
       "      <td>0</td>\n",
       "      <td>0</td>\n",
       "      <td>0</td>\n",
       "      <td>0</td>\n",
       "      <td>...</td>\n",
       "      <td>0</td>\n",
       "      <td>0</td>\n",
       "      <td>0</td>\n",
       "      <td>0</td>\n",
       "      <td>0</td>\n",
       "      <td>0</td>\n",
       "      <td>0</td>\n",
       "      <td>0</td>\n",
       "      <td>0</td>\n",
       "      <td>0</td>\n",
       "    </tr>\n",
       "    <tr>\n",
       "      <th>2</th>\n",
       "      <td>1</td>\n",
       "      <td>0</td>\n",
       "      <td>0</td>\n",
       "      <td>0</td>\n",
       "      <td>0</td>\n",
       "      <td>0</td>\n",
       "      <td>0</td>\n",
       "      <td>0</td>\n",
       "      <td>0</td>\n",
       "      <td>0</td>\n",
       "      <td>...</td>\n",
       "      <td>0</td>\n",
       "      <td>0</td>\n",
       "      <td>0</td>\n",
       "      <td>0</td>\n",
       "      <td>0</td>\n",
       "      <td>0</td>\n",
       "      <td>0</td>\n",
       "      <td>0</td>\n",
       "      <td>0</td>\n",
       "      <td>0</td>\n",
       "    </tr>\n",
       "    <tr>\n",
       "      <th>3</th>\n",
       "      <td>4</td>\n",
       "      <td>0</td>\n",
       "      <td>0</td>\n",
       "      <td>0</td>\n",
       "      <td>0</td>\n",
       "      <td>0</td>\n",
       "      <td>0</td>\n",
       "      <td>0</td>\n",
       "      <td>0</td>\n",
       "      <td>0</td>\n",
       "      <td>...</td>\n",
       "      <td>0</td>\n",
       "      <td>0</td>\n",
       "      <td>0</td>\n",
       "      <td>0</td>\n",
       "      <td>0</td>\n",
       "      <td>0</td>\n",
       "      <td>0</td>\n",
       "      <td>0</td>\n",
       "      <td>0</td>\n",
       "      <td>0</td>\n",
       "    </tr>\n",
       "    <tr>\n",
       "      <th>4</th>\n",
       "      <td>0</td>\n",
       "      <td>0</td>\n",
       "      <td>0</td>\n",
       "      <td>0</td>\n",
       "      <td>0</td>\n",
       "      <td>0</td>\n",
       "      <td>0</td>\n",
       "      <td>0</td>\n",
       "      <td>0</td>\n",
       "      <td>0</td>\n",
       "      <td>...</td>\n",
       "      <td>0</td>\n",
       "      <td>0</td>\n",
       "      <td>0</td>\n",
       "      <td>0</td>\n",
       "      <td>0</td>\n",
       "      <td>0</td>\n",
       "      <td>0</td>\n",
       "      <td>0</td>\n",
       "      <td>0</td>\n",
       "      <td>0</td>\n",
       "    </tr>\n",
       "  </tbody>\n",
       "</table>\n",
       "<p>5 rows × 785 columns</p>\n",
       "</div>"
      ],
      "text/plain": [
       "   label  pixel0  pixel1  pixel2  pixel3  pixel4  pixel5  pixel6  pixel7  \\\n",
       "0      1       0       0       0       0       0       0       0       0   \n",
       "1      0       0       0       0       0       0       0       0       0   \n",
       "2      1       0       0       0       0       0       0       0       0   \n",
       "3      4       0       0       0       0       0       0       0       0   \n",
       "4      0       0       0       0       0       0       0       0       0   \n",
       "\n",
       "   pixel8  ...  pixel774  pixel775  pixel776  pixel777  pixel778  pixel779  \\\n",
       "0       0  ...         0         0         0         0         0         0   \n",
       "1       0  ...         0         0         0         0         0         0   \n",
       "2       0  ...         0         0         0         0         0         0   \n",
       "3       0  ...         0         0         0         0         0         0   \n",
       "4       0  ...         0         0         0         0         0         0   \n",
       "\n",
       "   pixel780  pixel781  pixel782  pixel783  \n",
       "0         0         0         0         0  \n",
       "1         0         0         0         0  \n",
       "2         0         0         0         0  \n",
       "3         0         0         0         0  \n",
       "4         0         0         0         0  \n",
       "\n",
       "[5 rows x 785 columns]"
      ]
     },
     "execution_count": 3,
     "metadata": {},
     "output_type": "execute_result"
    }
   ],
   "source": [
    "df = pd.read_csv('data/train.csv')\n",
    "df.head(5)"
   ]
  },
  {
   "cell_type": "code",
   "execution_count": 4,
   "id": "ce95ff72",
   "metadata": {},
   "outputs": [],
   "source": [
    "imgs = {}\n",
    "\n",
    "for _, row in df.iterrows():\n",
    "    label = row[df.columns == 'label'][0]\n",
    "    data = row[df.columns != 'label']\n",
    "\n",
    "    if label not in imgs:\n",
    "        imgs[label] = []\n",
    "        \n",
    "    imgs[label].append(data.to_numpy(dtype=np.uint8).reshape((28, 28)))"
   ]
  },
  {
   "cell_type": "code",
   "execution_count": 5,
   "id": "a9f25061",
   "metadata": {},
   "outputs": [
    {
     "data": {
      "image/png": "[encoded data removed]",
      "text/plain": [
       "<Figure size 432x288 with 10 Axes>"
      ]
     },
     "metadata": {
      "needs_background": "light"
     },
     "output_type": "display_data"
    }
   ],
   "source": [
    "_, axes = plt.subplots(2, 5)\n",
    "\n",
    "for label, ax in enumerate(axes.flatten()):\n",
    "    ax.imshow(imgs[label][0], cmap='gray')\n",
    "    ax.axis('off')\n",
    "\n",
    "plt.show()"
   ]
  },
  {
   "cell_type": "code",
   "execution_count": 6,
   "id": "6b6dde0e",
   "metadata": {},
   "outputs": [
    {
     "data": {
      "image/png": "[encoded data removed]",
      "text/plain": [
       "<Figure size 432x288 with 1 Axes>"
      ]
     },
     "metadata": {
      "needs_background": "light"
     },
     "output_type": "display_data"
    }
   ],
   "source": [
    "plt.bar(range(10), [len(imgs[label]) for label in range(10)])\n",
    "\n",
    "plt.xticks(range(10))\n",
    "\n",
    "plt.show()"
   ]
  },
  {
   "cell_type": "code",
   "execution_count": 7,
   "id": "b9254b32",
   "metadata": {},
   "outputs": [
    {
     "name": "stdout",
     "output_type": "stream",
     "text": [
      "Iteration 1, loss = 4.98452962\n",
      "Iteration 2, loss = 1.09145025\n",
      "Iteration 3, loss = 0.72918654\n",
      "Iteration 4, loss = 0.57241196\n",
      "Iteration 5, loss = 0.47426261\n",
      "Iteration 6, loss = 0.41060191\n",
      "Iteration 7, loss = 0.35878937\n",
      "Iteration 8, loss = 0.32435302\n",
      "Iteration 9, loss = 0.29027569\n",
      "Iteration 10, loss = 0.27007378\n",
      "Iteration 11, loss = 0.25186316\n",
      "Iteration 12, loss = 0.22846742\n",
      "Iteration 13, loss = 0.21162713\n",
      "Iteration 14, loss = 0.20433873\n",
      "Iteration 15, loss = 0.18885742\n",
      "Iteration 16, loss = 0.18117380\n",
      "Iteration 17, loss = 0.17357148\n",
      "Iteration 18, loss = 0.16278918\n",
      "Iteration 19, loss = 0.15230891\n",
      "Iteration 20, loss = 0.14928099\n",
      "Iteration 21, loss = 0.14242700\n",
      "Iteration 22, loss = 0.13988249\n",
      "Iteration 23, loss = 0.13533418\n",
      "Iteration 24, loss = 0.13967069\n",
      "Iteration 25, loss = 0.13713735\n",
      "Iteration 26, loss = 0.13558814\n",
      "Iteration 27, loss = 0.11859839\n",
      "Iteration 28, loss = 0.11539600\n",
      "Iteration 29, loss = 0.11614168\n",
      "Iteration 30, loss = 0.11446450\n",
      "Iteration 31, loss = 0.10371165\n",
      "Iteration 32, loss = 0.10101144\n",
      "Iteration 33, loss = 0.10732755\n",
      "Iteration 34, loss = 0.09910151\n",
      "Iteration 35, loss = 0.10326485\n",
      "Iteration 36, loss = 0.09709291\n",
      "Iteration 37, loss = 0.10331776\n",
      "Iteration 38, loss = 0.09046002\n",
      "Iteration 39, loss = 0.08553562\n",
      "Iteration 40, loss = 0.08508131\n",
      "Iteration 41, loss = 0.08972252\n",
      "Iteration 42, loss = 0.08599425\n",
      "Iteration 43, loss = 0.08281480\n",
      "Iteration 44, loss = 0.08406963\n",
      "Iteration 45, loss = 0.07552707\n",
      "Iteration 46, loss = 0.07494976\n",
      "Iteration 47, loss = 0.07069399\n",
      "Iteration 48, loss = 0.07163892\n",
      "Iteration 49, loss = 0.06935526\n",
      "Iteration 50, loss = 0.07512175\n",
      "Iteration 51, loss = 0.06923556\n",
      "Iteration 52, loss = 0.06594701\n",
      "Iteration 53, loss = 0.06372204\n",
      "Iteration 54, loss = 0.06187157\n",
      "Iteration 55, loss = 0.05375764\n",
      "Iteration 56, loss = 0.05340407\n",
      "Iteration 57, loss = 0.05537215\n",
      "Iteration 58, loss = 0.05814030\n",
      "Iteration 59, loss = 0.06296708\n",
      "Iteration 60, loss = 0.07011284\n",
      "Iteration 61, loss = 0.05247015\n",
      "Iteration 62, loss = 0.05093388\n",
      "Iteration 63, loss = 0.05826367\n",
      "Iteration 64, loss = 0.04776916\n",
      "Iteration 65, loss = 0.04212863\n",
      "Iteration 66, loss = 0.04995098\n",
      "Iteration 67, loss = 0.05839751\n",
      "Iteration 68, loss = 0.05760049\n",
      "Iteration 69, loss = 0.04525908\n",
      "Iteration 70, loss = 0.04236746\n",
      "Iteration 71, loss = 0.04367676\n",
      "Iteration 72, loss = 0.05647742\n",
      "Iteration 73, loss = 0.05887828\n",
      "Iteration 74, loss = 0.04347438\n",
      "Iteration 75, loss = 0.04716087\n",
      "Iteration 76, loss = 0.04647953\n",
      "Training loss did not improve more than tol=0.000100 for 10 consecutive epochs. Stopping.\n"
     ]
    }
   ],
   "source": [
    "X = df.loc[:, df.columns != 'label']\n",
    "y = df.label\n",
    "\n",
    "X_train, X_test, y_train, y_test = train_test_split(X, y, test_size=0.2)\n",
    "\n",
    "classifier = MLPClassifier(hidden_layer_sizes=(64), max_iter=100, verbose=True)\n",
    "\n",
    "with warnings.catch_warnings():\n",
    "    warnings.filterwarnings(\"ignore\", category=ConvergenceWarning, module=\"sklearn\")\n",
    "     \n",
    "    classifier.fit(X_train, y_train)"
   ]
  },
  {
   "cell_type": "code",
   "execution_count": 8,
   "id": "820944f9",
   "metadata": {},
   "outputs": [
    {
     "data": {
      "image/png": "[encoded data removed]",
      "text/plain": [
       "<Figure size 432x288 with 1 Axes>"
      ]
     },
     "metadata": {
      "needs_background": "light"
     },
     "output_type": "display_data"
    }
   ],
   "source": [
    "plt.plot(classifier.loss_curve_)\n",
    "plt.xlabel(\"Iteration\")\n",
    "plt.ylabel(\"Loss\")\n",
    "\n",
    "plt.show()"
   ]
  },
  {
   "cell_type": "code",
   "execution_count": 9,
   "id": "78caa1a5",
   "metadata": {},
   "outputs": [],
   "source": [
    "def check_prediction(X, y):\n",
    "    y_predicted = classifier.predict(X)\n",
    "    \n",
    "    print(\"correctly predicted:\", (y == y_predicted).sum())\n",
    "    print(\"incorrectly predicted:\", (y != y_predicted).sum())"
   ]
  },
  {
   "cell_type": "code",
   "execution_count": 10,
   "id": "10a746c1",
   "metadata": {},
   "outputs": [
    {
     "name": "stdout",
     "output_type": "stream",
     "text": [
      "correctly predicted: 33111\n",
      "incorrectly predicted: 489\n"
     ]
    }
   ],
   "source": [
    "check_prediction(X_train, y_train)"
   ]
  },
  {
   "cell_type": "code",
   "execution_count": 11,
   "id": "582f74c1",
   "metadata": {},
   "outputs": [
    {
     "name": "stdout",
     "output_type": "stream",
     "text": [
      "correctly predicted: 7945\n",
      "incorrectly predicted: 455\n"
     ]
    }
   ],
   "source": [
    "check_prediction(X_test, y_test)"
   ]
  },
  {
   "cell_type": "code",
   "execution_count": 12,
   "id": "855d5ee2",
   "metadata": {},
   "outputs": [
    {
     "data": {
      "image/png": "[encoded data removed]",
      "text/plain": [
       "<Figure size 432x288 with 2 Axes>"
      ]
     },
     "metadata": {
      "needs_background": "light"
     },
     "output_type": "display_data"
    }
   ],
   "source": [
    "y_test_predicted = classifier.predict(X_test)\n",
    "\n",
    "cm = confusion_matrix(y_test, y_test_predicted)\n",
    "\n",
    "disp = ConfusionMatrixDisplay(cm)\n",
    "disp.plot()\n",
    "\n",
    "plt.show()"
   ]
  }
 ],
 "metadata": {
  "kernelspec": {
   "display_name": "Python 3 (ipykernel)",
   "language": "python",
   "name": "python3"
  },
  "language_info": {
   "codemirror_mode": {
    "name": "ipython",
    "version": 3
   },
   "file_extension": ".py",
   "mimetype": "text/x-python",
   "name": "python",
   "nbconvert_exporter": "python",
   "pygments_lexer": "ipython3",
   "version": "3.8.10"
  }
 },
 "nbformat": 4,
 "nbformat_minor": 5
}
